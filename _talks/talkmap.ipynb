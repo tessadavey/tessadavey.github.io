{
 "cells": [
  {
   "cell_type": "markdown",
   "metadata": {},
   "source": [
    "# Leaflet cluster map of talk locations\n",
    "\n",
    "Run this from the _talks/ directory, which contains .md files of all your talks. This scrapes the location YAML field from each .md file, geolocates it with geopy/Nominatim, and uses the getorg library to output data, HTML, and Javascript for a standalone cluster map."
   ]
  },
  {
   "cell_type": "code",
   "execution_count": 1,
   "metadata": {},
   "outputs": [
    {
     "name": "stdout",
     "output_type": "stream",
     "text": [
      "  File \"/Users/theresadavey/anaconda/bin/pip\", line 11\n",
      "    sys.exit(__main__._main())\n",
      "    ^\n",
      "IndentationError: unexpected indent\n",
      "Iywidgets and ipyleaflet support disabled. You must be in a Jupyter notebook to use this feature.\n",
      "Error raised:\n",
      "No module named 'ipyleaflet'\n",
      "Check that you have enabled ipyleaflet in Jupyter with:\n",
      "    jupyter nbextension enable --py ipyleaflet\n"
     ]
    }
   ],
   "source": [
    "!pip install getorg --upgrade\n",
    "import glob\n",
    "import getorg\n",
    "from geopy import Nominatim"
   ]
  },
  {
   "cell_type": "code",
   "execution_count": 2,
   "metadata": {},
   "outputs": [],
   "source": [
    "g = glob.glob(\"*.md\")"
   ]
  },
  {
   "cell_type": "code",
   "execution_count": 5,
   "metadata": {},
   "outputs": [
    {
     "name": "stderr",
     "output_type": "stream",
     "text": [
      "/Users/theresadavey/anaconda/lib/python3.6/site-packages/ipykernel_launcher.py:1: DeprecationWarning: Using Nominatim with the default \"geopy/1.21.0\" `user_agent` is strongly discouraged, as it violates Nominatim's ToS https://operations.osmfoundation.org/policies/nominatim/ and may possibly cause 403 and 429 HTTP errors. Please specify a custom `user_agent` with `Nominatim(user_agent=\"my-application\")` or by overriding the default `user_agent`: `geopy.geocoders.options.default_user_agent = \"my-application\"`. In geopy 2.0 this will become an exception.\n",
      "  \"\"\"Entry point for launching an IPython kernel.\n"
     ]
    }
   ],
   "source": [
    "geocoder = Nominatim(timeout=3)\n",
    "location_dict = {}\n",
    "location = \"\"\n",
    "permalink = \"\"\n",
    "title = \"\""
   ]
  },
  {
   "cell_type": "code",
   "execution_count": 6,
   "metadata": {},
   "outputs": [
    {
     "name": "stdout",
     "output_type": "stream",
     "text": [
      "Regensburg, Germany \n",
      " Regensburg, Bayern, 93047, Deutschland\n",
      "Salt Lake City, UT, USA \n",
      " Salt Lake City, Utah, United States of America\n",
      "Pittsburgh, PA, USA \n",
      " Pittsburgh, Allegheny County, Pennsylvania, United States of America\n",
      "Oxford, UK \n",
      " Oxford, Oxfordshire, South East, England, United Kingdom\n",
      "Orlando, FL, USA \n",
      " Orlando, Central Boulevard, Thornton Park, Orlando, Orange County, Florida, 32801, United States of America\n",
      "Pittsburgh, PA, USA \n",
      " Pittsburgh, Allegheny County, Pennsylvania, United States of America\n",
      "Daytona Beach, FL, USA \n",
      " Daytona Beach, Volusia County, Florida, United States of America\n",
      "San Diego, CA, USA \n",
      " San Diego, San Diego County, California, United States of America\n",
      "Tohoku University, Japan \n",
      " Tohoku University, 鍛冶屋前丁, 二丁目, 片平, 青葉区, 仙台市, 宮城県, 980-0804, 日本 (Japan)\n",
      "Daytona Beach, FL, USA \n",
      " Daytona Beach, Volusia County, Florida, United States of America\n",
      "Tokyo Denki University, Tokyo, Japan \n",
      " 東京電機大学 東京千住キャンパス, Skytree Floor, 東京都, 足立区, 120-8551, 日本 (Japan)\n",
      "Saint-Malo, France \n",
      " Saint-Malo, Ille-et-Vilaine, Bretagne, France métropolitaine, 35400, France\n",
      "Yokohama, Japan \n",
      " 横浜市, 神奈川県, 日本 (Japan)\n",
      "Queretaro, Mexico \n",
      " Querétaro, México\n",
      "Marina Bay Sands, Singapore \n",
      " Marina Bay Sands, Bayfront Avenue, Bayfront, Downtown Core, Singapore, Central, 018956, Singapore\n",
      "Imperial College London, London, UK \n",
      " Imperial College London, Exhibition Road, Brompton, Royal Borough of Kensington and Chelsea, London, Greater London, England, SW7 2AZ, United Kingdom\n",
      "San Diego, CA, USA \n",
      " San Diego, San Diego County, California, United States of America\n",
      "University of Tokyo, Japan \n",
      " 東京大学 柏キャンパス, 学融合の道, 柏市, 千葉県, 277-8583, 日本 (Japan)\n",
      "Okinawa, Japan \n",
      " 沖縄県, 日本 (Japan)\n",
      "Loano, Italy \n",
      " Loano, Savona, Liguria, 17025, Italia\n",
      "Santos, Brazil \n",
      " Santos, Região Imediata de Santos, Região Metropolitana da Baixada Santista, Região Intermediária de São Paulo, São Paulo, Região Sudeste, Brasil\n",
      "Marina Bay Sands, Singapore \n",
      " Marina Bay Sands, Bayfront Avenue, Bayfront, Downtown Core, Singapore, Central, 018956, Singapore\n",
      "Singapore \n",
      " Singapore\n",
      "Tokyo, Japan \n",
      " 東京都, 日本 (Japan)\n",
      "Salt Lake City, UT, USA \n",
      " Salt Lake City, Utah, United States of America\n",
      "Awaji Island, Japan \n",
      " 淡路島, 洲本市, 兵庫県, 日本 (Japan)\n",
      "Gold Coast, Australia \n",
      " Gold Coast, Queensland, 4217, Australia\n",
      "Kingston University, London, UK \n",
      " Kingston University, Woodbines Avenue, Seething Wells, Surbiton, Royal Borough of Kingston upon Thames, London, Greater London, England, KT1 2ED, United Kingdom\n",
      "Tokyo, Japan \n",
      " 東京都, 日本 (Japan)\n"
     ]
    }
   ],
   "source": [
    "\n",
    "for file in g:\n",
    "    with open(file, 'r') as f:\n",
    "        lines = f.read()\n",
    "        if lines.find('location: \"') > 1:\n",
    "            loc_start = lines.find('location: \"') + 11\n",
    "            lines_trim = lines[loc_start:]\n",
    "            loc_end = lines_trim.find('\"')\n",
    "            location = lines_trim[:loc_end]\n",
    "                            \n",
    "           \n",
    "        location_dict[location] = geocoder.geocode(location)\n",
    "        print(location, \"\\n\", location_dict[location])\n"
   ]
  },
  {
   "cell_type": "code",
   "execution_count": 7,
   "metadata": {},
   "outputs": [
    {
     "data": {
      "text/plain": [
       "'Written map to ../talkmap/'"
      ]
     },
     "execution_count": 7,
     "metadata": {},
     "output_type": "execute_result"
    }
   ],
   "source": [
    "m = getorg.orgmap.create_map_obj()\n",
    "getorg.orgmap.output_html_cluster_map(location_dict, folder_name=\"../talkmap\", hashed_usernames=False)"
   ]
  },
  {
   "cell_type": "code",
   "execution_count": null,
   "metadata": {
    "collapsed": true
   },
   "outputs": [],
   "source": []
  }
 ],
 "metadata": {
  "anaconda-cloud": {},
  "kernelspec": {
   "display_name": "Python 3",
   "language": "python",
   "name": "python3"
  },
  "language_info": {
   "codemirror_mode": {
    "name": "ipython",
    "version": 3
   },
   "file_extension": ".py",
   "mimetype": "text/x-python",
   "name": "python",
   "nbconvert_exporter": "python",
   "pygments_lexer": "ipython3",
   "version": "3.6.7"
  }
 },
 "nbformat": 4,
 "nbformat_minor": 1
}
